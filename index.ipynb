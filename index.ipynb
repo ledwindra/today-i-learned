{
 "cells": [
  {
   "cell_type": "markdown",
   "metadata": {
    "slideshow": {
     "reveal_scroll": "True",
     "slide_type": "slide"
    }
   },
   "source": [
    "# About\n",
    "A list of my daily lessons. I don't set high expectations here. My rationale is that building a good habit might not be easy. So let's just find out how this goes. I also haven't thought the best format for this repository so it will be just a simple markdown written in [<strong>Jupyter</strong>](https://jupyter.org/)."
   ]
  },
  {
   "cell_type": "markdown",
   "metadata": {
    "slideshow": {
     "reveal_scroll": "True",
     "slide_type": "slide"
    }
   },
   "source": [
    "## Before 2020\n",
    "Skipped.\n",
    "\n",
    "## 2020: January 1 - July 26\n",
    "It's been a rough year, hasn't it? Anyway, skipped"
   ]
  },
  {
   "cell_type": "markdown",
   "metadata": {
    "slideshow": {
     "reveal_scroll": "True",
     "slide_type": "slide"
    }
   },
   "source": [
    "## July 27, 2020\n",
    "Today I learned how to encode a string in Python using [`base64`](https://docs.python.org/3/library/base64.html) built-in module. This question posted on [<strong>stackoverflow</strong>](https://stackoverflow.com/questions/8908287/why-do-i-need-b-to-encode-a-string-with-base64) helps me through it. Following is my main usage:\n",
    "\n",
    "```python\n",
    ">>> import base64\n",
    ">>> encode = 'but you have to decode it'.encode()\n",
    ">>> base64.b64encode(encode)\n",
    "b'YnV0IHlvdSBoYXZlIHRvIGRlY29kZSBpdA=='\n",
    "```\n",
    "\n",
    "[and then ...](https://twitter.com/ledwindra/status/1287697628268879877)\n",
    "\n",
    "![i-have-an-encoded-joke](img/i-have-an-encoded-joke.png)"
   ]
  },
  {
   "cell_type": "markdown",
   "metadata": {
    "slideshow": {
     "reveal_scroll": "True",
     "slide_type": "slide"
    }
   },
   "source": [
    "## July 28, 2020\n",
    "\n",
    "### latest git version now allows us to get rid of `master` branch\n",
    "Today I learned how to initiate `main` as a default branch on git! This article from [<strong>GitHub</strong>](https://github.blog/2020-07-27-highlights-from-git-2-28/#introducing-init-defaultbranch) helps me from updating git to version 2.28 to [<strong>creating a new repository</strong>](https://github.com/ledwindra/change-main-branch) with `main` branch, instead of `master`.\n",
    "\n",
    "In addition, I managed to changed the default branch from existing project such as this repository  to `main`. [<strong>This article</strong>](https://www.hanselman.com/blog/EasilyRenameYourGitDefaultBranchFromMasterToMain.aspx) and [<strong>this StackOverflow post</strong>](https://stackoverflow.com/questions/2003505/how-do-i-delete-a-git-branch-locally-and-remotely) help me to make this happen. A small step worth doing indeed!\n",
    "\n",
    "Following is the snippet from the command line:\n",
    "\n",
    "```bash\n",
    "ledwindra@R90SEMHV:~/today-i-learned$ git status\n",
    "On branch main\n",
    "Your branch is up to date with 'origin/main'.\n",
    "\n",
    "Changes not staged for commit:\n",
    "  (use \"git add <file>...\" to update what will be committed)\n",
    "  (use \"git restore <file>...\" to discard changes in working directory)\n",
    "        modified:   README.md\n",
    "ledwindra@R90SEMHV:~/today-i-learned$ git add README.md \n",
    "ledwindra@R90SEMHV:~/today-i-learned$ git commit -m \"Today I learned\"\n",
    "[main e1f5f04] Today I learned\n",
    " 1 file changed, 25 insertions(+), 8 deletions(-)\n",
    "ledwindra@R90SEMHV:~/today-i-learned$ git push origin main\n",
    "Username for 'https://github.com': ledwindra\n",
    "Password for 'https://ledwindra@github.com': \n",
    "Enumerating objects: 5, done.\n",
    "Counting objects: 100% (5/5), done.\n",
    "Delta compression using up to 8 threads\n",
    "Compressing objects: 100% (3/3), done.\n",
    "Writing objects: 100% (3/3), 1.42 KiB | 485.00 KiB/s, done.\n",
    "Total 3 (delta 0), reused 0 (delta 0), pack-reused 0\n",
    "To https://github.com/ledwindra/today-i-learned.git\n",
    "   d371988..e1f5f04  main -> main\n",
    "```\n",
    "\n",
    "### a conservative anarchist with a beautiful job description\n",
    "Besides, today I learned about [<strong>Audrey Tang</strong>](https://en.wikipedia.org/wiki/Audrey_Tang), Taiwan's Digital Minister, who's also--according to her Wikipedia page--the first transgender official in the top executive cabinet. This afternoon while I was doing my work, I saw [<strong>this tweet</strong>](https://twitter.com/hardmaru/status/1288009848102113280), which basically tells Audrey is a well known hacker in the [<strong>Haskell</strong>](https://www.haskell.org/) and [<strong>Perl</strong>](https://www.perl.org/) communities.\n",
    "\n",
    "Later I dig deeper about her, from [<strong>this article</strong>](https://www.wired.com/story/how-taiwans-unlikely-digital-minister-hacked-the-pandemic/) (also from that tweet). It's totally a worth read on how she and the Taiwanese government handled the COVID-19 pandemic so well. \"She's really fantastic\", my mind said. Then I surfed to her [<strong>talk</strong>](https://www.youtube.com/watch?v=LscTx6DHh9I) and [<strong>interview</strong>](https://www.youtube.com/watch?v=IZ2N3tF4W_k).\n",
    "\n",
    "What's really fascinating about her is not only that she's technically savvy, but she also shows us that being a prodigy doesn't necessarily mean she loses her human touch. Basically she's not a typical brilliant asshole which is ubiquitous in the tech scene and also how popular culture depicts it (like Elon Musk or Mark Zuckerberg). As a closing remark for today's session, below I quote her job description, which is totally beautiful:\n",
    "\n",
    "![audrey-tang-job-desc](img/audrey-tang-job-desc.png)\n",
    "\n",
    "From today, I declare that I'm her fan. 🥰"
   ]
  },
  {
   "cell_type": "markdown",
   "metadata": {
    "slideshow": {
     "reveal_scroll": "True",
     "slide_type": "slide"
    }
   },
   "source": [
    "## July 29, 2020\n",
    "I don't think I learned something new today. Mostly I was just continue watching and reading stuffs about Audrey Tang (both related to his work as a minister and his effort in [<strong>Raku</strong>](https://raku.org/) development). Besides, I started reading [<strong>Break 'em Up</strong>](https://www.goodreads.com/book/show/51176626-break-em-up), which I find quite interesting. Nothing particular from the it that caught my attention so far, but will update a snippet here if it does."
   ]
  },
  {
   "cell_type": "markdown",
   "metadata": {
    "slideshow": {
     "reveal_scroll": "True",
     "slide_type": "slide"
    }
   },
   "source": [
    "## July 30, 2020\n",
    "Today I learned how to make a progress bar using Python. So that when I run the program, it will appear on the console. Not only that, I tried to modify it so that it resembles a drum roll 😎. Check this out:\n",
    "\n",
    "![progress-bar](img/progress-bar.gif)\n",
    "\n",
    "This [<strong>StackOverflow post</strong>](https://stackoverflow.com/questions/3173320/text-progress-bar-in-the-console) helps to walk through the process, though I didn't copy and paste it thoroughly 🙏🏽. The code snippet is as follows:\n",
    "\n",
    "```python\n",
    "def problem_one(self, n=1000, interval=0.001, dash='-', equal='='):\n",
    "    \"\"\"\n",
    "    If we list all the natural numbers below 10 that are multiples of 3 or 5, we get 3, 5, 6 and 9. The sum of these multiples is 23. Find the sum of all the multiples of 3 or 5 below 1000.\n",
    "    \"\"\"\n",
    "    # set initial numbers\n",
    "    i = 0\n",
    "    answer = 0\n",
    "    # as long as i is below N (10, 1000, etc)\n",
    "    # if it's divisible by 3 or 5\n",
    "    # add that number with the answer\n",
    "    while i < n:\n",
    "        progress = int((i / n) * 101)\n",
    "        progress_dash = dash * int((100 - progress) / 2)\n",
    "        progress_equal = equal * int(progress / 2)\n",
    "        print(f'Progress: |{progress_equal}{progress_dash}| {progress}%', end='\\r')\n",
    "        if i % 3 == 0 or i % 5 == 0:\n",
    "            answer += i\n",
    "        i += 1\n",
    "        sleep(interval)\n",
    "    print(\"\\n\")\n",
    "    \n",
    "    return answer\n",
    "```\n",
    "\n",
    " Oh, you can also see my [<strong>Project Euler</strong>](https://github.com/ledwindra/project-euler) repository too! The unit tests in the repository still don't include the progress bar, though. 😄"
   ]
  },
  {
   "cell_type": "markdown",
   "metadata": {
    "slideshow": {
     "reveal_scroll": "True",
     "slide_type": "slide"
    }
   },
   "source": [
    "## July 31, 2020\n",
    "I learned nothing particular today but apparently I'm enjoying [<strong>New Girls (TV series)</strong>](https://en.wikipedia.org/wiki/New_Girl)(available on Netflix). Today I just finished its first (out of seven) season.\n",
    "\n",
    "Alright, alright, here's another one. Today I learned that in Python, a list of tuples can be converted to dictionary, which I find it useful to solve a certain problem, for example [<strong>this Project Euler problem</strong>](https://projecteuler.net/problem=22)\n",
    "\n",
    "```python\n",
    ">>> import string # it's built-in module, no need to pip install\n",
    ">>> alphabet = [x for x in string.ascii_uppercase] # can be lowercase too\n",
    ">>> alphabet\n",
    "['A', 'B', 'C', 'D', 'E', 'F', 'G', 'H', 'I', 'J', 'K', 'L', 'M', 'N', 'O', 'P', 'Q', 'R', 'S', 'T', 'U', 'V', 'W', 'X', 'Y', 'Z']\n",
    ">>> alphabet = [(alphabet[x], alphabet[x].replace(alphabet[x], str(x+1))) for x in range(len(alphabet))] # a list of tuples\n",
    ">>> alphabet\n",
    "[('A', '1'), ('B', '2'), ('C', '3'), ('D', '4'), ('E', '5'), ('F', '6'), ('G', '7'), ('H', '8'), ('I', '9'), ('J', '10'), ('K', '11'), ('L', '12'), ('M', '13'), ('N', '14'), ('O', '15'), ('P', '16'), ('Q', '17'), ('R', '18'), ('S', '19'), ('T', '20'), ('U', '21'), ('V', '22'), ('W', '23'), ('X', '24'), ('Y', '25'), ('Z', '26')]\n",
    ">>> alphabet = dict(alphabet) # convert to a dictionary in just one nice line\n",
    ">>> alphabet\n",
    "{'A': '1', 'B': '2', 'C': '3', 'D': '4', 'E': '5', 'F': '6', 'G': '7', 'H': '8', 'I': '9', 'J': '10', 'K': '11', 'L': '12', 'M': '13', 'N': '14', 'O': '15', 'P': '16', 'Q': '17', 'R': '18', 'S': '19', 'T': '20', 'U': '21', 'V': '22', 'W': '23', 'X': '24', 'Y': '25', 'Z': '26'}\n",
    "```\n",
    "\n",
    "For what it's worth, I think this can be handy in many situations. 😀"
   ]
  },
  {
   "cell_type": "markdown",
   "metadata": {
    "slideshow": {
     "reveal_scroll": "True",
     "slide_type": "slide"
    }
   },
   "source": [
    "## August 1, 2020\n",
    "\n",
    "### a little bit of romcom\n",
    "Whoa, we're now entering the 8th month already 😱! Anyway, today I learned that at the end of [<strong>New Girl</strong>](https://en.wikipedia.org/wiki/New_Girl)'s first season, there's the scene which has the Clash's [<strong>Death or Glory</strong>](https://en.wikipedia.org/wiki/Death_or_Glory_(song)) as its background song. Then I'm reminded that in another movie where [<strong>Zooey Deschanel</strong>](https://en.wikipedia.org/wiki/Zooey_Deschanel) plays a big role, [<strong>(500) Days of Summer</strong>](https://en.wikipedia.org/wiki/500_Days_of_Summer), there's a scene where another the Clash song, [<strong>Train in Vain</strong>](https://en.wikipedia.org/wiki/Train_in_Vain) was sung by [<strong>Joseph Gordon-Levitt</strong>](https://en.wikipedia.org/wiki/Joseph_Gordon-Levitt). See the clip [<strong>here</strong>](https://www.youtube.com/watch?v=aGOhU2LLUt0).\n",
    "\n",
    "### permutations made simple\n",
    "Today I also learned how make a permutation given a value in Python in a simple way. I think performing such task is not going to be frequent in my day-to-day job, but it's really good to know that it's this easy. This [<strong>StackOverflow</strong>](https://stackoverflow.com/questions/104420/how-to-generate-all-permutations-of-a-list#104436) post helps me to walk through the problem. Here's the snippet:\n",
    "\n",
    "```python\n",
    ">>> import itertools # this built-in module is awesome!\n",
    ">>> import string\n",
    ">>> digit = string.digits\n",
    ">>> digit\n",
    "'0123456789' # a given value\n",
    ">>> permutation = list(itertools.permutations(digit, len(digit))) # make permutation of the given value, each has length of it (in this case 10)\n",
    ">>> permutation[:5]\n",
    "[('0', '1', '2', '3', '4', '5', '6', '7', '8', '9'), ('0', '1', '2', '3', '4', '5', '6', '7', '9', '8'), ('0', '1', '2', '3', '4', '5', '6', '8', '7', '9'), ('0', '1', '2', '3', '4', '5', '6', '8', '9', '7'), ('0', '1', '2', '3', '4', '5', '6', '9', '7', '8')]\n",
    ">>> # complete list will be longer to print\n",
    "```\n",
    "\n",
    "This method helps me to solve [<strong>43rd's Project Euler problem</strong>](https://projecteuler.net/problem=43)."
   ]
  },
  {
   "cell_type": "markdown",
   "metadata": {
    "slideshow": {
     "reveal_scroll": "True",
     "slide_type": "slide"
    }
   },
   "source": [
    "## August 2, 2020\n",
    "Today I learned that writing mathematical notation without installing and compiling LaTeX can just be easily done using Jupyter in markdown mode. For example consider the following [<strong>Project Euler problem</strong>](https://projecteuler.net/problem=27):\n",
    "\n",
    "```\n",
    "Euler discovered the remarkable quadratic formula:\n",
    "\n",
    "$$n^2 + n + 41$$\n",
    "\n",
    "It turns out that the formula will produce 40 primes for the consecutive integer values $0 \\leq n \\leq 39$. However, when is divisible by 41, and certainly when $n = 40, 40^2 + 40 + 41 = 40(40 + 1) + 41$ is clearly divisible by 41.\n",
    "\n",
    "The incredible formula $n^2 - 79n + 1601$ was discovered, which produces 80 primes for the consecutive values $0 \\leq n \\leq 79$. The product of the coefficients, −79 and 1601, is −126479.\n",
    "\n",
    "Considering quadratics of the form:\n",
    "\n",
    "$n^2 + an + b$, where $|a| \\lt 1000$ and $|b| \\leq 1000$\n",
    "\n",
    "where $|n|$ is the modulus/absolute value of $n$ <br>\n",
    "e.g. $|11| = 11$ and $|-4| = 4$\n",
    "\n",
    "Find the product of the coefficients, $a$ and $b$ for the quadratic expression that produces the maximum number of primes for consecutive values of $n$, starting with $n = 0$.\n",
    "```\n",
    "\n",
    "However it's not rendered in this document. See below when I tried doing it on Jupyter:\n",
    "\n",
    "![jupyter-latex](img/jupyter-latex.png)\n",
    "\n",
    "Then so what? For me, it's really awesome if some serious documents such as academic papers which have numerous mathematical formula can just be written inside Jupyter, including the graphs, tables, and of course codes! Not only we have to compile something for a document (which can be tiresome), it can also be shared online so easily and more readable (which are totally important for general readers).\n",
    "\n",
    "Future me or other readers might want to see that presentations can be done in Jupyter and hosted on GitHub such as [<strong>this</strong>](https://ledwindra.github.io/pendidikan-papua/#/) (made by me, but not totally a serious stuff). 😀"
   ]
  },
  {
   "cell_type": "markdown",
   "metadata": {
    "slideshow": {
     "reveal_scroll": "True",
     "slide_type": "slide"
    }
   },
   "source": [
    "## August 3, 2020\n",
    "\n",
    "### a new format!\n",
    "Today I learned how to make a blog using Jupyter instead of simple README markdown, thanks to [<strong>this post</strong>](https://medium.com/learning-machine-learning/present-your-data-science-projects-with-jupyter-slides-75f20735eb0f) which makes the process easier (I've used it as a reference for several times but haven't had a chance to promote them here). In addition, we can also see the slides page-by-page for each day instead of a vertical long read, which makes the current version more like a daily journal to me (and it is!). 😎\n",
    "\n",
    "### GitLab is awesome\n",
    "In my day-to-day work, I used [<strong>GitLab</strong>](https://about.gitlab.com/) instead of GitHub. Basically it's the same thing, but there are slight differences (otherwise it's gonna be f__ing boring) 🤣. One key feature that I like is the [<strong>project migration</strong>](https://docs.gitlab.com/ee/user/project/import/). In any case for whatever reason you want to migrate your project from somewhere else (e.g. GitHub, Bitbucket), it's very seamless and convenient to do it on GitLab. Oh by the way [<strong>here's my page</strong>](https://gitlab.com/ledwindra) 🖥. This makes me wonder, though, why is it as widely used as GitHub?\n",
    "\n",
    "### so long unfiltered emails! ✉️\n",
    "I'm not a heavy user when it comes to emails, but I like it when they're organized! So today I spent quite a lot of time creating new labels and assigning which emails that need to be sorted (e.g. ads, updates, forums, etc). The initial investment of time may be long (but not that loooooong!), and the returns (measured by peace of mind) is yuuuge (hopefully). Here's the [<strong>short reading</strong>](https://support.google.com/mail/answer/6579?hl=en) (but I didn't use it as a reference anyway)."
   ]
  },
  {
   "cell_type": "markdown",
   "metadata": {
    "slideshow": {
     "reveal_scroll": "True",
     "slide_type": "slide"
    }
   },
   "source": [
    "## August 4, 2020\n",
    "\n",
    "### a deeper look of GitHub actions\n",
    "Today I learned something very practical and I feel it very useful in my everyday job: automating jobs using GitHub actions. I've been doing it several times mainly for unit testing, but today I found it can be used way more than that! Like how? Suppose I have scheduled job at certain times where mostly I'm not logged on, and suppose each job makes changes to the repository. How can we automate that job and push to the repository? YES! [<strong>GitHub actions</strong>](https://github.com/features/actions)!\n",
    "\n",
    "There are several links that I could throw upon here which help me get through it, but mainly [<strong>the official documentation</strong>](https://docs.github.com/en/actions/getting-started-with-github-actions) and [<strong>the official repository</strong>](https://github.com/actions/checkout) are really helpful!\n",
    "\n",
    "\n",
    "<img width=\"500\" height=\"500\" src=\"https://media.giphy.com/media/gtzIP3mpbzh16/giphy.gif\">\n",
    "\n",
    "One important thing that we need to pay attention to is the [<strong>YAML</strong>](https://en.wikipedia.org/wiki/YAML) file as it can be tricky. Here's one example of mine for my [<strong>NBER</strong>]() project:\n",
    "\n",
    "```YAML\n",
    "# name of the actions is build (can be anything)\n",
    "name: build\n",
    "\n",
    "# it triggers the action when there's a push or pull request to master (or any other) branch\n",
    "on:\n",
    "  push:\n",
    "    branches: [ master ]\n",
    "  pull_request:\n",
    "    branches: [ master ]\n",
    "\n",
    "jobs:\n",
    "  build:\n",
    "    \n",
    "    # runs on Ubuntu\n",
    "    runs-on: ubuntu-latest\n",
    "\n",
    "    # install Python and the dependencies\n",
    "    steps:\n",
    "    - uses: actions/checkout@v2\n",
    "    - name: Set up Python 3.8\n",
    "      uses: actions/setup-python@v2\n",
    "      with:\n",
    "        python-version: 3.8\n",
    "    - name: Install dependencies\n",
    "      run: |\n",
    "        python -m pip install --upgrade pip\n",
    "        if [ -f requirements.txt ]; then pip install -r requirements.txt; fi\n",
    "        \n",
    "    # runs the main job which is to scrape papers from NBER\n",
    "    - name: Run script\n",
    "      run: |\n",
    "        python src/get_paper.py --initial_id 1 --timeout 10 --sleep 10\n",
    "    # performs unit testing\n",
    "    - name: Test with pytest\n",
    "      run: |\n",
    "        pytest\n",
    "        # this is the tricky part\n",
    "        # when there are changes, GitHub bot will push to the master (or any other) branch\n",
    "        # automatically!\n",
    "        git config user.name github-actions\n",
    "        git config user.email github-actions@github.com\n",
    "        git config --global pull.ff only\n",
    "        git add .\n",
    "        git commit -m \"Hopefully works out\"\n",
    "        git push\n",
    "```\n",
    "\n",
    "When triggered, we can see the log in real time (how awesome is that!). The sample workflow was successful and can be seen [<strong>here</strong>](https://github.com/ledwindra/nber/runs/944536208?check_suite_focus=true). On the other hand, as of this writing, the full automatic scraper still runs [<strong>here</strong>](https://github.com/ledwindra/nber/runs/944566116?check_suite_focus=true). I'm not sure for how long it will run, hence fingers crossed! 🤞🏽"
   ]
  },
  {
   "cell_type": "markdown",
   "metadata": {
    "slideshow": {
     "reveal_scroll": "True",
     "slide_type": "slide"
    }
   },
   "source": [
    "## August 5, 2020\n",
    "\n",
    "### a continuation of GitHub actions\n",
    "Today I learned that GitHub actions have maximum execution time, which is six hours. This happened to me because my NBER script crashed during building 😭. Following is the message:\n",
    "\n",
    "![build](img/build.png)\n",
    "\n",
    "Fortunately, I also wrote another YAML file that executes cron job, where each job scrapes only one NBER paper. Consequently, the execution time is way shorter than the build. Following is the message:\n",
    "\n",
    "![cron](img/cron.png)\n",
    "\n",
    "Lessons learned? Frequent small progresses are better than one big but inconsistent progress. Yes, I'm talking about life 🙃. As a consequence, I would see my daily contributions skyrocket starting today 🚀.\n",
    "\n",
    "![contributions](img/contributions.png)\n",
    "\n",
    "### Amazon Kindle being weird, but okay\n",
    "So yesterday [<strong>Working in Public: The Making and Maintenance of Open Source Software</strong>](https://www.goodreads.com/book/show/54140556-working-in-public), one of my 2020 book lists, was launched. However, it seemed that it doesn't have the Kindle version. To me, reading Kindle book is not more about convenience or functional, but it usually offers free sample, so I can decide whether to proceed to purchase or not 📖.\n",
    "\n",
    "![working-in-public](img/working-in-public.png)\n",
    "\n",
    "Fortunately I saw the author tweeting about the book launched. So I asked here whether the Kindle version will be available or not. She said it already is. I was confused then I showed my above pic but apparently it's the non-US issue. The solution which was suggested by Amazon themselves was to change my current location from Indonesia to anywhere else which Amazon offers (apparently the country that I'm living is not, albeit having done Kindle purchases several times without problems). But I guess it also depends on the publishers hence this thing happened to me. Finally, though, the book is on my device and I can't wait to spend time reading it!\n",
    "\n",
    "![working-in-public-2](img/working-in-public-2.png)"
   ]
  },
  {
   "cell_type": "markdown",
   "metadata": {
    "slideshow": {
     "reveal_scroll": "True",
     "slide_type": "slide"
    }
   },
   "source": [
    "## August 6, 2020\n",
    "\n",
    "### still about GitHub actions\n",
    "Today I learned that GitHub actions can be triggered manually. It's really helpful as I don't have to wait until the cron job starts. I've read about this too yesterday but haven't had a chance to implement it straight away 😝. [<strong>Here's</strong>](https://github.blog/changelog/2020-07-06-github-actions-manual-triggers-with-workflow_dispatch/) what the documentation says. It's apparently still a relatively new feature! Here's what the YAML example looks like:\n",
    "\n",
    "```yaml\n",
    "name: cron-audit-committee\n",
    "\n",
    "on:\n",
    "  workflow_dispatch:\n",
    "  \n",
    "# below, you can just continue the YAML as usual\n",
    "```\n",
    "\n",
    "\n",
    "\n",
    "### color changes when activity increases\n",
    "I also learned that the activity color in GitHub can change when by any metric within certain period it increases quite significantly than usual. Here's the comparison between last week and today:\n",
    "\n",
    "#### last week\n",
    "![old-contribution](img/old-contribution.png)\n",
    "\n",
    "#### today\n",
    "![new-contribution](img/new-contribution.png)\n",
    "\n",
    "It's almost likely due to the increased activity of my cron jobs 🤣."
   ]
  }
 ],
 "metadata": {
  "kernelspec": {
   "display_name": "Python 3",
   "language": "python",
   "name": "python3"
  },
  "language_info": {
   "codemirror_mode": {
    "name": "ipython",
    "version": 3
   },
   "file_extension": ".py",
   "mimetype": "text/x-python",
   "name": "python",
   "nbconvert_exporter": "python",
   "pygments_lexer": "ipython3",
   "version": "3.8.1"
  }
 },
 "nbformat": 4,
 "nbformat_minor": 4
}
